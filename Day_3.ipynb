{
  "nbformat": 4,
  "nbformat_minor": 0,
  "metadata": {
    "colab": {
      "provenance": []
    },
    "kernelspec": {
      "name": "python3",
      "display_name": "Python 3"
    },
    "language_info": {
      "name": "python"
    }
  },
  "cells": [
    {
      "cell_type": "code",
      "execution_count": null,
      "metadata": {
        "id": "K-qBvDOjcZ1v"
      },
      "outputs": [],
      "source": [
        "train_reviews = df['review'][:40000]"
      ]
    },
    {
      "cell_type": "code",
      "source": [
        "test_reviews = df['review'][40000:]"
      ],
      "metadata": {
        "id": "tMpBTFk8cccN"
      },
      "execution_count": null,
      "outputs": []
    },
    {
      "cell_type": "code",
      "source": [
        "train_sentiment = df.sentiment[:40000]"
      ],
      "metadata": {
        "id": "qYDyp67cceam"
      },
      "execution_count": null,
      "outputs": []
    },
    {
      "cell_type": "code",
      "source": [
        "test_sentiment = df.sentiment[40000:]"
      ],
      "metadata": {
        "id": "pF83WULXcgTX"
      },
      "execution_count": null,
      "outputs": []
    },
    {
      "cell_type": "code",
      "source": [
        "cv = CountVectorizer(min_df=0, max_df=1, binary = False, ngram_range = (1,3))"
      ],
      "metadata": {
        "id": "a4flFmZTcgel"
      },
      "execution_count": null,
      "outputs": []
    },
    {
      "cell_type": "code",
      "source": [
        "cv_train_reviews = cv.fit_transform(train_reviews)"
      ],
      "metadata": {
        "id": "gS0uTDxlcknK"
      },
      "execution_count": null,
      "outputs": []
    },
    {
      "cell_type": "code",
      "source": [
        "cv_test_reviews = cv.transform(test_reviews)"
      ],
      "metadata": {
        "id": "Llq6oqsQcm1o"
      },
      "execution_count": null,
      "outputs": []
    },
    {
      "cell_type": "code",
      "source": [
        "lb = LabelBinarizer()"
      ],
      "metadata": {
        "id": "OP1n916qcou7"
      },
      "execution_count": null,
      "outputs": []
    },
    {
      "cell_type": "code",
      "source": [
        "lb_train_sentiments = lb.fit_transform(train_sentiment)"
      ],
      "metadata": {
        "id": "_H6Uyjr8cqvX"
      },
      "execution_count": null,
      "outputs": []
    },
    {
      "cell_type": "code",
      "source": [
        "lb_test_binary = lb.fit_transform(test_sentiment)"
      ],
      "metadata": {
        "id": "vB5moNkictNs"
      },
      "execution_count": null,
      "outputs": []
    },
    {
      "cell_type": "code",
      "source": [
        "mnb = MultinomialNB()"
      ],
      "metadata": {
        "id": "fHymlqEJcwuO"
      },
      "execution_count": null,
      "outputs": []
    },
    {
      "cell_type": "code",
      "source": [
        "mnb_bow = mnb.fit(cv_train_reviews, lb_train_sentiments)"
      ],
      "metadata": {
        "id": "6O31TikOcxQV"
      },
      "execution_count": null,
      "outputs": []
    },
    {
      "cell_type": "code",
      "source": [
        "mnb_bow_predict = mnb.predict(cv_test_reviews)"
      ],
      "metadata": {
        "id": "o4uL-KjyczDq"
      },
      "execution_count": null,
      "outputs": []
    },
    {
      "cell_type": "code",
      "source": [
        "mnb_bow_score = accuracy_score(lb_test_binary, mnb_bow_predict)\n",
        "print(\"Accuracy :\", mnb_bow_score)"
      ],
      "metadata": {
        "id": "bPESRBbGc07n"
      },
      "execution_count": null,
      "outputs": []
    },
    {
      "cell_type": "code",
      "source": [
        "# word cloud for positive review words in the entire dataset\n",
        "from wordcloud import WordCloud, STOPWORDS\n",
        "import matplotlib.pyplot as plt\n",
        "%matplotlib inline\n",
        "\n",
        "#join all the positive reviews\n",
        "positive_words = ' '.join(list(df[df['sentiment'] == 'positive']['review']))\n",
        "\n",
        "#word cloud for positive words\n",
        "wordcloud = WordCloud(width=800, height=500, random_state=21, max_font_size=110).generate(positive_words)\n",
        "\n",
        "plt.figure(figsize=(10, 7))\n",
        "plt.imshow(wordcloud, interpolation=\"bilinear\")\n",
        "plt.axis('off')\n",
        "plt.show()\n"
      ],
      "metadata": {
        "id": "_1aQkAR6c5E6"
      },
      "execution_count": null,
      "outputs": []
    }
  ]
}