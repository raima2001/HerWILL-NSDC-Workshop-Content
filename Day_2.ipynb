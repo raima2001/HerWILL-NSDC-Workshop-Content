{
  "nbformat": 4,
  "nbformat_minor": 0,
  "metadata": {
    "colab": {
      "provenance": []
    },
    "kernelspec": {
      "name": "python3",
      "display_name": "Python 3"
    },
    "language_info": {
      "name": "python"
    }
  },
  "cells": [
    {
      "cell_type": "code",
      "execution_count": null,
      "metadata": {
        "id": "AjndZR2s6Ndw"
      },
      "outputs": [],
      "source": [
        "import nltk\n",
        "nltk.download('punkt')\n",
        "data['review'] = data['review'].apply(word_tokenize)"
      ]
    },
    {
      "cell_type": "code",
      "source": [
        "data['review'][1]"
      ],
      "metadata": {
        "id": "kpmHVuOo6UPL"
      },
      "execution_count": null,
      "outputs": []
    },
    {
      "cell_type": "code",
      "source": [
        "data['review'] = data['review'].apply(lambda x: [item for item in x if item.isalpha()])"
      ],
      "metadata": {
        "id": "XUEl0aMZ6aze"
      },
      "execution_count": null,
      "outputs": []
    },
    {
      "cell_type": "code",
      "source": [
        "print(\" \".join(data['review'][1]))"
      ],
      "metadata": {
        "id": "EnNDQYH36cng"
      },
      "execution_count": null,
      "outputs": []
    },
    {
      "cell_type": "code",
      "source": [
        "data['review'] = data['review'].apply(lambda x: [item.lower() for item in x])"
      ],
      "metadata": {
        "id": "LgGcrQdf6hHv"
      },
      "execution_count": null,
      "outputs": []
    },
    {
      "cell_type": "code",
      "source": [
        "import nltk\n",
        "nltk.download('stopwords')\n",
        "from nltk.corpus import stopwords\n",
        "stop_words = set(stopwords.words('english'))\n",
        "\n",
        "data['review'] = data['review'].apply(lambda x: [item for item in x if item not in stop_words])\n"
      ],
      "metadata": {
        "id": "Qrbwhh0G6lTL"
      },
      "execution_count": null,
      "outputs": []
    },
    {
      "cell_type": "code",
      "source": [
        "from nltk.stem import PorterStemmer\n",
        "ps = PorterStemmer()\n",
        "\n",
        "data['review'] = data['review'].apply(lambda x: [ps.stem(item) for item in x])"
      ],
      "metadata": {
        "id": "2OlS_K3w6oRT"
      },
      "execution_count": null,
      "outputs": []
    },
    {
      "cell_type": "code",
      "source": [
        "data['review'] = data['review'].apply(lambda x: \" \".join(x))"
      ],
      "metadata": {
        "id": "QWSwuKJi6u1v"
      },
      "execution_count": null,
      "outputs": []
    }
  ]
}